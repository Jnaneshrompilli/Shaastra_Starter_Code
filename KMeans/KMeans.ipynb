{
 "cells": [
  {
   "cell_type": "markdown",
   "id": "integrated-modification",
   "metadata": {},
   "source": [
    "# K-Means Clustering and K-Nearest Neighbours\n",
    "\n",
    "In this session we will try to get a high level intuition of how KNN method of classification works and what it is exactly.\n",
    "\n",
    "## So what is K-Means Clustering anyways?\n",
    "It's an unsupervised classfication based Machine Learning algorithm which means you just present the model with some data with no labels or tags\n",
    "and expect it to do the labelling for you.\n",
    "<img src=\"assets/unlabelled.png\" width=\"800px\"/>\n",
    "<br />\n",
    "And once it's done labelleling the dataset you can use this model for new data points to predict which class it comes under.\n",
    "\n",
    "<img src=\"assets/clustering.png\" width=\"800px\"/>\n",
    "\n",
    "#### As shown above a list of point that aren't classified in the beginning get classified by the K-means algorithm and make classes and relations that \n",
    "#### sometimes even humans can't see.\n",
    "\n",
    "### Let's jump right in and make a rudimentary K-means classifier on 1 dimensional data."
   ]
  },
  {
   "cell_type": "code",
   "execution_count": 1,
   "id": "every-pressure",
   "metadata": {},
   "outputs": [],
   "source": [
    "# Let's start with making a small data set "
   ]
  },
  {
   "cell_type": "code",
   "execution_count": 2,
   "id": "official-techno",
   "metadata": {},
   "outputs": [],
   "source": [
    "# Now we come to the clustering portion- selecting the k value is usually done by experimentation and variance bias calculations\n",
    "# Since we can clearly see that there are 3 distinct classes let's take k to be equal to 3\n",
    "\n",
    "# Let's select 3 random points\n",
    "\n",
    "# we'll call the first index as red, second as blue and third green"
   ]
  },
  {
   "cell_type": "code",
   "execution_count": null,
   "id": "previous-ocean",
   "metadata": {},
   "outputs": [],
   "source": []
  },
  {
   "cell_type": "code",
   "execution_count": 3,
   "id": "younger-sleeping",
   "metadata": {},
   "outputs": [],
   "source": [
    "# Now we run over the entire list of data points to see which points are closest to which colour\n"
   ]
  },
  {
   "cell_type": "code",
   "execution_count": 49,
   "id": "academic-scanner",
   "metadata": {},
   "outputs": [
    {
     "data": {
      "image/png": "[encoded data removed]",
      "text/plain": [
       "<Figure size 432x288 with 1 Axes>"
      ]
     },
     "metadata": {
      "needs_background": "light"
     },
     "output_type": "display_data"
    }
   ],
   "source": [
    "# On Iterating once we get this\n",
    "red_points,blue_points,green_points = classify(data,red,blue,green,1)\n",
    "display(red_points,'red')\n",
    "display(blue_points,'blue')\n",
    "display(green_points,'green')\n",
    "plt.show()"
   ]
  },
  {
   "cell_type": "code",
   "execution_count": 4,
   "id": "settled-transparency",
   "metadata": {},
   "outputs": [],
   "source": [
    "# Upon iterating several times we get the following markings\n",
    "\n",
    "# Which is pretty much the classes that we can see visually in the first diagram\n",
    "# Pretty cool right"
   ]
  },
  {
   "cell_type": "markdown",
   "id": "copyrighted-adams",
   "metadata": {},
   "source": [
    "#### Now say we have to classify which class a new data point falls under we just need to find the class that is closest to it\n",
    "#### Basically comparing the new data to red,blue and green points at the end of training\n",
    "\n",
    "\n",
    "## Now we proceed to use the k means classifier on The Mall Customer DataSet"
   ]
  },
  {
   "cell_type": "code",
   "execution_count": null,
   "id": "individual-world",
   "metadata": {},
   "outputs": [],
   "source": []
  },
  {
   "cell_type": "code",
   "execution_count": 5,
   "id": "established-hawaii",
   "metadata": {},
   "outputs": [],
   "source": [
    "# loading dataset\n"
   ]
  },
  {
   "cell_type": "code",
   "execution_count": 6,
   "id": "brave-pierce",
   "metadata": {},
   "outputs": [],
   "source": [
    "# there aren't any missing values\n"
   ]
  },
  {
   "cell_type": "code",
   "execution_count": null,
   "id": "charged-purse",
   "metadata": {},
   "outputs": [],
   "source": []
  },
  {
   "cell_type": "code",
   "execution_count": 7,
   "id": "computational-security",
   "metadata": {},
   "outputs": [],
   "source": [
    "# Getting to know our dataset\n"
   ]
  },
  {
   "cell_type": "markdown",
   "id": "incorporated-profile",
   "metadata": {},
   "source": [
    "#### We can infer two things from these two graphs:\n",
    "* There are few people who earn more than 100 US Dollars. Most of the people have an earning of around 50-75 US Dollars\n",
    "* The most regular customers for the Mall has age around 30-35 years of age. Whereas the the senior citizens age group is the least frequent visitor in the Mall. Youngsters are lesser in number as compared to the Middle aged people."
   ]
  },
  {
   "cell_type": "code",
   "execution_count": 8,
   "id": "sound-crazy",
   "metadata": {},
   "outputs": [],
   "source": [
    "# Gender wise spending score comparision\n"
   ]
  },
  {
   "cell_type": "code",
   "execution_count": 9,
   "id": "equipped-argentina",
   "metadata": {},
   "outputs": [],
   "source": [
    "# We make heatmaps to establish the correlation between the attributes of each data point\n",
    "\n",
    "# We don't get any decent correlation between the features so we just consider all the attributes"
   ]
  },
  {
   "cell_type": "code",
   "execution_count": null,
   "id": "interracial-static",
   "metadata": {},
   "outputs": [],
   "source": []
  },
  {
   "cell_type": "code",
   "execution_count": 22,
   "id": "double-amsterdam",
   "metadata": {},
   "outputs": [
    {
     "name": "stdout",
     "output_type": "stream",
     "text": [
      "(200, 2)\n"
     ]
    }
   ],
   "source": [
    "# From the above diagram we can say that there is a relatively good co-relation between spending scores vs age and annual income\n",
    "# So we will be including those columns alone in our classification\n",
    "x = data.iloc[:, [3, 4]].values\n",
    "\n",
    "# let's check the shape of x\n",
    "print(x.shape)"
   ]
  },
  {
   "cell_type": "code",
   "execution_count": 10,
   "id": "noticed-border",
   "metadata": {},
   "outputs": [],
   "source": [
    "# Determining which value of k would be most suitable for the dataset\n"
   ]
  },
  {
   "cell_type": "markdown",
   "id": "sacred-brooklyn",
   "metadata": {},
   "source": [
    "### Elbow method to determine k value\n",
    "* wcss is within cluster sum of squares\n",
    "<br />\n",
    "it's a method to determine the ideal k here the ideal value is 5 since after that \"elbow\" the drop is minimal. "
   ]
  },
  {
   "cell_type": "code",
   "execution_count": null,
   "id": "olympic-shoot",
   "metadata": {},
   "outputs": [],
   "source": []
  },
  {
   "cell_type": "markdown",
   "id": "damaged-killing",
   "metadata": {},
   "source": [
    "## The five classes that we were able to segregate involve\n",
    "* misers\n",
    "* general\n",
    "* target\n",
    "* spendthrift\n",
    "* careful\n",
    "\n",
    "These are very important revelations as the mall can now target it's perfect audience inorder to maximize profitablity"
   ]
  },
  {
   "cell_type": "code",
   "execution_count": null,
   "id": "outdoor-identifier",
   "metadata": {},
   "outputs": [],
   "source": []
  }
 ],
 "metadata": {
  "kernelspec": {
   "display_name": "Python 3",
   "language": "python",
   "name": "python3"
  },
  "language_info": {
   "codemirror_mode": {
    "name": "ipython",
    "version": 3
   },
   "file_extension": ".py",
   "mimetype": "text/x-python",
   "name": "python",
   "nbconvert_exporter": "python",
   "pygments_lexer": "ipython3",
   "version": "3.8.6"
  }
 },
 "nbformat": 4,
 "nbformat_minor": 5
}
