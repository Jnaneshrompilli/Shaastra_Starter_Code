{
 "cells": [
  {
   "cell_type": "markdown",
   "id": "australian-fruit",
   "metadata": {},
   "source": [
    "# Decision Trees\n",
    "\n",
    "Your cousin has made millions of dollars speculating on real estate. He's offered to become business partners with you because of your interest in data science. He'll supply the money, and you'll supply models that predict how much various houses are worth.\n",
    "\n",
    "You ask your cousin how he's predicted real estate values in the past. and he says it is just intuition. But more questioning reveals that he's identified price patterns from houses he has seen in the past, and he uses those patterns to make predictions for new houses he is considering.\n",
    "\n",
    "Below is one of the patterns he has used\n",
    "\n",
    "![](assets/SS1.png)\n",
    "\n",
    "Essentially what he has used is something called a Decision Tree. You can have more branches to the trees and make a very complex looking one too.\n",
    "\n",
    "After some more questioning you found that this is what essentially your cousin does\n",
    "\n",
    "![](assets/SS2.png)\n",
    "\n",
    "In general a decision tree asks a question and then classifies the data based on that question.\n",
    "\n",
    "It is a supervised learning algorithm that is the base for some of the more accurate machine learning algorithms like Bagging and Boosting that currently exist.\n",
    "\n",
    "Decision Trees when taken as a single element usually are not very accurate because they tend to overfit on the training data. But when we try averaging or combining them using some other logic, they become incredibly powerful.\n",
    "\n",
    "Since you have a basic idea behind the working of a decision tree, let's try to get a working model on the Titanic dataset"
   ]
  },
  {
   "cell_type": "code",
   "execution_count": null,
   "id": "abstract-international",
   "metadata": {
    "ExecuteTime": {
     "end_time": "2021-02-06T05:39:39.107049Z",
     "start_time": "2021-02-06T05:39:38.884239Z"
    }
   },
   "outputs": [],
   "source": []
  },
  {
   "cell_type": "code",
   "execution_count": null,
   "id": "liable-terrain",
   "metadata": {
    "ExecuteTime": {
     "end_time": "2021-02-06T05:25:41.280836Z",
     "start_time": "2021-02-06T05:25:41.266825Z"
    }
   },
   "outputs": [],
   "source": []
  },
  {
   "cell_type": "markdown",
   "id": "constant-sentence",
   "metadata": {},
   "source": [
    "One important thing to notice is that Decision Trees make split in the dataset. This means that rather than imputing the missing values with the mean value or median value, we are better off using some value which indicates that the value is in fact missing. For integer type entries we can do this by using -1 or -999 and for object type columns a simple \"Missing\" is good enough to indicate the lack of a value.\n",
    "\n",
    "So let's go ahead and implement that."
   ]
  },
  {
   "cell_type": "code",
   "execution_count": null,
   "id": "complex-sculpture",
   "metadata": {
    "ExecuteTime": {
     "end_time": "2021-02-06T05:28:21.017638Z",
     "start_time": "2021-02-06T05:28:21.012512Z"
    }
   },
   "outputs": [],
   "source": []
  },
  {
   "cell_type": "code",
   "execution_count": null,
   "id": "static-birmingham",
   "metadata": {
    "ExecuteTime": {
     "end_time": "2021-02-06T05:31:37.031370Z",
     "start_time": "2021-02-06T05:31:37.014412Z"
    }
   },
   "outputs": [],
   "source": []
  },
  {
   "cell_type": "code",
   "execution_count": null,
   "id": "elder-japan",
   "metadata": {
    "ExecuteTime": {
     "end_time": "2021-02-06T05:32:51.749419Z",
     "start_time": "2021-02-06T05:32:51.707126Z"
    }
   },
   "outputs": [],
   "source": []
  },
  {
   "cell_type": "markdown",
   "id": "separate-uncle",
   "metadata": {},
   "source": [
    "Let us drop columns like PassengerId, Name and Tickets which are unique to every individual and won't help us in identifying a trend"
   ]
  },
  {
   "cell_type": "code",
   "execution_count": null,
   "id": "innocent-throat",
   "metadata": {
    "ExecuteTime": {
     "end_time": "2021-02-06T05:34:30.622953Z",
     "start_time": "2021-02-06T05:34:30.613571Z"
    }
   },
   "outputs": [],
   "source": []
  },
  {
   "cell_type": "code",
   "execution_count": null,
   "id": "bottom-clearing",
   "metadata": {
    "ExecuteTime": {
     "end_time": "2021-02-06T05:34:36.851595Z",
     "start_time": "2021-02-06T05:34:36.464164Z"
    }
   },
   "outputs": [],
   "source": []
  },
  {
   "cell_type": "markdown",
   "id": "artificial-technique",
   "metadata": {},
   "source": [
    "Yup, that's it! The data is ready for training"
   ]
  },
  {
   "cell_type": "code",
   "execution_count": null,
   "id": "potential-rainbow",
   "metadata": {
    "ExecuteTime": {
     "end_time": "2021-02-06T05:35:32.634318Z",
     "start_time": "2021-02-06T05:35:32.599441Z"
    }
   },
   "outputs": [],
   "source": []
  },
  {
   "cell_type": "code",
   "execution_count": null,
   "id": "pursuant-settlement",
   "metadata": {
    "ExecuteTime": {
     "end_time": "2021-02-06T05:38:32.729892Z",
     "start_time": "2021-02-06T05:38:32.707645Z"
    }
   },
   "outputs": [],
   "source": []
  },
  {
   "cell_type": "code",
   "execution_count": null,
   "id": "underlying-nelson",
   "metadata": {
    "ExecuteTime": {
     "end_time": "2021-02-06T05:40:13.282885Z",
     "start_time": "2021-02-06T05:40:13.143327Z"
    }
   },
   "outputs": [],
   "source": []
  },
  {
   "cell_type": "markdown",
   "id": "bearing-bracelet",
   "metadata": {},
   "source": [
    "That's all from this workshop! Thank you all for attending. If you have any more doubts or just want further contact, you can drop in an email to aryanpandey1192k@gmail.com \n",
    "\n",
    "Thank you all for sticking through the workshop, it was a pleasure conducting this workshop for you all and we hope you learned something from it!"
   ]
  },
  {
   "cell_type": "code",
   "execution_count": null,
   "id": "answering-trinidad",
   "metadata": {},
   "outputs": [],
   "source": []
  }
 ],
 "metadata": {
  "kernelspec": {
   "display_name": "Python 3",
   "language": "python",
   "name": "python3"
  },
  "language_info": {
   "codemirror_mode": {
    "name": "ipython",
    "version": 3
   },
   "file_extension": ".py",
   "mimetype": "text/x-python",
   "name": "python",
   "nbconvert_exporter": "python",
   "pygments_lexer": "ipython3",
   "version": "3.8.6"
  },
  "toc": {
   "base_numbering": 1,
   "nav_menu": {},
   "number_sections": true,
   "sideBar": true,
   "skip_h1_title": false,
   "title_cell": "Table of Contents",
   "title_sidebar": "Contents",
   "toc_cell": false,
   "toc_position": {},
   "toc_section_display": true,
   "toc_window_display": false
  },
  "varInspector": {
   "cols": {
    "lenName": 16,
    "lenType": 16,
    "lenVar": 40
   },
   "kernels_config": {
    "python": {
     "delete_cmd_postfix": "",
     "delete_cmd_prefix": "del ",
     "library": "var_list.py",
     "varRefreshCmd": "print(var_dic_list())"
    },
    "r": {
     "delete_cmd_postfix": ") ",
     "delete_cmd_prefix": "rm(",
     "library": "var_list.r",
     "varRefreshCmd": "cat(var_dic_list()) "
    }
   },
   "types_to_exclude": [
    "module",
    "function",
    "builtin_function_or_method",
    "instance",
    "_Feature"
   ],
   "window_display": false
  }
 },
 "nbformat": 4,
 "nbformat_minor": 5
}
